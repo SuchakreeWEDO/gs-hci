{
 "cells": [
  {
   "cell_type": "code",
   "execution_count": 4,
   "metadata": {},
   "outputs": [
    {
     "name": "stdout",
     "output_type": "stream",
     "text": [
      "tensor([[[0.3451, 0.3451, 0.3451,  ..., 0.6745, 0.6745, 0.6745],\n",
      "         [0.3451, 0.3451, 0.3451,  ..., 0.6745, 0.6745, 0.6745],\n",
      "         [0.3451, 0.3451, 0.3451,  ..., 0.6745, 0.6745, 0.6745],\n",
      "         ...,\n",
      "         [0.6235, 0.6196, 0.6196,  ..., 0.5922, 0.5922, 0.5922],\n",
      "         [0.6196, 0.6196, 0.6157,  ..., 0.5882, 0.5882, 0.5882],\n",
      "         [0.6196, 0.6157, 0.6157,  ..., 0.5882, 0.5882, 0.5882]],\n",
      "\n",
      "        [[0.3451, 0.3451, 0.3451,  ..., 0.6745, 0.6745, 0.6745],\n",
      "         [0.3451, 0.3451, 0.3451,  ..., 0.6745, 0.6745, 0.6745],\n",
      "         [0.3451, 0.3451, 0.3451,  ..., 0.6745, 0.6745, 0.6745],\n",
      "         ...,\n",
      "         [0.6235, 0.6196, 0.6196,  ..., 0.5922, 0.5922, 0.5922],\n",
      "         [0.6196, 0.6196, 0.6157,  ..., 0.5882, 0.5882, 0.5882],\n",
      "         [0.6196, 0.6157, 0.6157,  ..., 0.5882, 0.5882, 0.5882]],\n",
      "\n",
      "        [[0.3451, 0.3451, 0.3451,  ..., 0.6745, 0.6745, 0.6745],\n",
      "         [0.3451, 0.3451, 0.3451,  ..., 0.6745, 0.6745, 0.6745],\n",
      "         [0.3451, 0.3451, 0.3451,  ..., 0.6745, 0.6745, 0.6745],\n",
      "         ...,\n",
      "         [0.6235, 0.6196, 0.6196,  ..., 0.5922, 0.5922, 0.5922],\n",
      "         [0.6196, 0.6196, 0.6157,  ..., 0.5882, 0.5882, 0.5882],\n",
      "         [0.6196, 0.6157, 0.6157,  ..., 0.5882, 0.5882, 0.5882]]])\n",
      "tensor(0.)\n",
      "tensor(1.)\n"
     ]
    }
   ],
   "source": [
    "import cv2\n",
    "import matplotlib.pyplot as plt\n",
    "import numpy as np\n",
    "\n",
    "img_path = r\"D:\\3d-reconstruction\\gs-hci\\output\\android-save-depth-8e39d121-8\\save_imgs\\20240219_154556\\20240219_154556_depth_3658.png\"\n",
    "\n",
    "# gs_depth = cv2.imread(img_path)\n",
    "# plt.imshow(gs_depth)\n",
    "# print(np.min(gs_depth))\n",
    "# print(np.max(gs_depth))\n",
    "# # image\n",
    "\n",
    "from PIL import Image\n",
    "from utils.general_utils import PILtoTorch\n",
    "\n",
    "gs_depth_img = Image.open(img_path)\n",
    "gs_depth = PILtoTorch(gs_depth_img,  gs_depth_img.size)\n",
    "print(gs_depth)\n",
    "print(gs_depth.min())\n",
    "print(gs_depth.max())"
   ]
  },
  {
   "cell_type": "code",
   "execution_count": 42,
   "metadata": {},
   "outputs": [],
   "source": [
    "# invert_bit = cv2.bitwise_not(image) # OR\n",
    "# plt.imshow(invert_bit)\n",
    "# print(np.min(invert_bit))\n",
    "# print(np.max(invert_bit))"
   ]
  },
  {
   "cell_type": "code",
   "execution_count": 43,
   "metadata": {},
   "outputs": [],
   "source": [
    "# invert_sub = 255 - image\n",
    "# plt.imshow(invert_sub)\n",
    "# print(np.min(invert_sub))\n",
    "# print(np.max(invert_sub))"
   ]
  },
  {
   "cell_type": "code",
   "execution_count": 44,
   "metadata": {},
   "outputs": [],
   "source": [
    "# monodepth_img = cv2.imread(r\"D:\\3d-reconstruction\\datasets\\android-img-fixisoae\\depth\\20240219_154556_depth.png\")\n",
    "# plt.imshow(monodepth_img)\n",
    "# print(monodepth_img.shape)\n",
    "# print(np.min(monodepth_img))\n",
    "# print(np.max(monodepth_img))"
   ]
  },
  {
   "cell_type": "code",
   "execution_count": 1,
   "metadata": {},
   "outputs": [
    {
     "name": "stdout",
     "output_type": "stream",
     "text": [
      "<PIL.Image.Image image mode=L size=5976x3974 at 0x211F5096350>\n"
     ]
    },
    {
     "ename": "NameError",
     "evalue": "name 'gs_depth_img' is not defined",
     "output_type": "error",
     "traceback": [
      "\u001b[1;31m---------------------------------------------------------------------------\u001b[0m",
      "\u001b[1;31mNameError\u001b[0m                                 Traceback (most recent call last)",
      "Cell \u001b[1;32mIn[1], line 11\u001b[0m\n\u001b[0;32m      8\u001b[0m mono_depth \u001b[38;5;241m=\u001b[39m ImageOps\u001b[38;5;241m.\u001b[39mgrayscale(mono_depth) \n\u001b[0;32m      9\u001b[0m \u001b[38;5;28mprint\u001b[39m(mono_depth)\n\u001b[1;32m---> 11\u001b[0m orig_w, orig_h \u001b[38;5;241m=\u001b[39m \u001b[43mgs_depth_img\u001b[49m\u001b[38;5;241m.\u001b[39msize\n\u001b[0;32m     13\u001b[0m resolution \u001b[38;5;241m=\u001b[39m \u001b[38;5;241m-\u001b[39m\u001b[38;5;241m1\u001b[39m\n\u001b[0;32m     14\u001b[0m resolution_scale \u001b[38;5;241m=\u001b[39m \u001b[38;5;241m1.0\u001b[39m\n",
      "\u001b[1;31mNameError\u001b[0m: name 'gs_depth_img' is not defined"
     ]
    }
   ],
   "source": [
    "from PIL import Image, ImageOps\n",
    "from utils.general_utils import PILtoTorch\n",
    "\n",
    "\n",
    "mono_depth_path = r\"D:\\3d-reconstruction\\datasets\\media_sony_fixediso\\depth\\0001_depth.png\"\n",
    "\n",
    "mono_depth = Image.open(mono_depth_path)\n",
    "mono_depth = ImageOps.grayscale(mono_depth) \n",
    "print(mono_depth)\n",
    "\n",
    "orig_w, orig_h = gs_depth_img.size\n",
    "\n",
    "resolution = -1\n",
    "resolution_scale = 1.0\n",
    "\n",
    "# lp.resolution\n",
    "if resolution == -1:\n",
    "    if orig_w > 1600:\n",
    "        print(\"[ INFO ] Encountered quite large input images (>1.6K pixels width), rescaling to 1.6K.\\n \"\n",
    "            \"If this is not desired, please explicitly specify '--resolution/-r' as 1\")\n",
    "        global_down = orig_w / 1600\n",
    "    else:\n",
    "        global_down = 1\n",
    "else:\n",
    "    global_down = orig_w / resolution\n",
    "\n",
    "scale = float(global_down) * float(resolution_scale)\n",
    "resolution = (int(orig_w / scale), int(orig_h / scale))\n",
    "\n",
    "\n",
    "\n",
    "resized_mono_depth = PILtoTorch(mono_depth, resolution)\n",
    "mono_depth = resized_mono_depth[:3, ...].squeeze(0)\n",
    "print(mono_depth.min())\n",
    "print(mono_depth.max())"
   ]
  },
  {
   "cell_type": "code",
   "execution_count": 47,
   "metadata": {},
   "outputs": [
    {
     "data": {
      "text/plain": [
       "'D:\\\\3d-reconstruction\\\\datasets\\\\android-img-fixisoae\\\\depth\\\\20240219_154556'"
      ]
     },
     "execution_count": 47,
     "metadata": {},
     "output_type": "execute_result"
    }
   ],
   "source": [
    "import os\n",
    "\n",
    "os.path.join(r\"D:\\3d-reconstruction\\datasets\\android-img-fixisoae\", \"depth\", \"20240219_154556\")"
   ]
  },
  {
   "cell_type": "code",
   "execution_count": 2,
   "metadata": {},
   "outputs": [
    {
     "name": "stdout",
     "output_type": "stream",
     "text": [
      "1.12.1\n",
      "11.6\n",
      "None\n"
     ]
    }
   ],
   "source": [
    "import torch\n",
    "print(torch.__version__)\n",
    "print(print(torch.version.cuda))\n",
    "# 1.12.1\n",
    "# 11.6\n",
    "# None"
   ]
  }
 ],
 "metadata": {
  "kernelspec": {
   "display_name": "monodepth",
   "language": "python",
   "name": "python3"
  },
  "language_info": {
   "codemirror_mode": {
    "name": "ipython",
    "version": 3
   },
   "file_extension": ".py",
   "mimetype": "text/x-python",
   "name": "python",
   "nbconvert_exporter": "python",
   "pygments_lexer": "ipython3",
   "version": "3.7.13"
  }
 },
 "nbformat": 4,
 "nbformat_minor": 2
}
