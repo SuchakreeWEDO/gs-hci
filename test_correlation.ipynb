{
 "cells": [
  {
   "cell_type": "code",
   "execution_count": null,
   "metadata": {},
   "outputs": [],
   "source": [
    "import torch"
   ]
  },
  {
   "cell_type": "code",
   "execution_count": 4,
   "metadata": {},
   "outputs": [],
   "source": [
    "# https://gist.github.com/ncullen93/58e71c4303b89e420bd8e0b0aa54bf48\n",
    "def pearsonr(x, y):\n",
    "    \"\"\"\n",
    "    Mimics `scipy.stats.pearsonr`\n",
    "    Arguments\n",
    "    ---------\n",
    "    x : 1D torch.Tensor (N,)\n",
    "    y : 1D torch.Tensor (N,)\n",
    "    Returns\n",
    "    -------\n",
    "    r_val : float\n",
    "        pearsonr correlation coefficient between x and y\n",
    "    \n",
    "    Scipy docs ref:\n",
    "        https://docs.scipy.org/doc/scipy/reference/generated/scipy.stats.pearsonr.html\n",
    "    \n",
    "    Scipy code ref:\n",
    "        https://github.com/scipy/scipy/blob/v0.19.0/scipy/stats/stats.py#L2975-L3033\n",
    "    Example:\n",
    "        >>> x = np.random.randn(100)\n",
    "        >>> y = np.random.randn(100)\n",
    "        >>> sp_corr = scipy.stats.pearsonr(x, y)[0]\n",
    "        >>> th_corr = pearsonr(torch.from_numpy(x), torch.from_numpy(y))\n",
    "        >>> np.allclose(sp_corr, th_corr)\n",
    "    \"\"\"\n",
    "    mean_x = torch.mean(x)\n",
    "    mean_y = torch.mean(y)\n",
    "\n",
    "    xm = x.sub(mean_x)\n",
    "    ym = y.sub(mean_y)\n",
    "    \n",
    "    \n",
    "    r_den = torch.norm(xm, 2) * torch.norm(ym, 2)\n",
    "    r_num = xm.dot(ym)\n",
    "    \n",
    "    r_val = r_num / r_den\n",
    "    return r_val"
   ]
  },
  {
   "cell_type": "code",
   "execution_count": 74,
   "metadata": {},
   "outputs": [],
   "source": [
    "import numpy as np\n",
    "from scipy import linalg\n",
    "\n",
    "\n",
    "def scipy_pearsonr_np(x,y):\n",
    "\n",
    "    n = len(x)\n",
    "    if n != len(y):\n",
    "        raise ValueError('x and y must have the same length.')\n",
    "\n",
    "    if n < 2:\n",
    "        raise ValueError('x and y must have length at least 2.')\n",
    "\n",
    "\n",
    "    if (x == x[0]).all() or (y == y[0]).all():\n",
    "        msg = (\"An input array is constant; the correlation coefficient \"\n",
    "                \"is not defined.\")\n",
    "        \n",
    "    xmean = x.mean()\n",
    "    ymean = y.mean()\n",
    "\n",
    "    xm = x - xmean\n",
    "    ym = y - ymean\n",
    "\n",
    "    # np.linalg.norm or sqrt((xm*xm).sum()),\n",
    "    normxm = linalg.norm(xm)\n",
    "    normym = linalg.norm(ym)\n",
    "        \n",
    "    r = np.dot(xm/normxm, ym/normym)\n",
    "\n",
    "    # Presumably, if abs(r) > 1, then it is only some small artifact of\n",
    "    # floating point arithmetic.\n",
    "    r = max(min(r, 1.0), -1.0)\n",
    "\n",
    "    return r"
   ]
  },
  {
   "cell_type": "code",
   "execution_count": 75,
   "metadata": {},
   "outputs": [],
   "source": [
    "import torch\n",
    "def pearsonr_torch(x,y):\n",
    "    '''torch version of scipy.pearsonr'''\n",
    "\n",
    "    n = len(x)\n",
    "    if n != len(y):\n",
    "        raise ValueError('x and y must have the same length.')\n",
    "\n",
    "    if n < 2:\n",
    "        raise ValueError('x and y must have length at least 2.')\n",
    "\n",
    "\n",
    "    if (x == x[0]).all() or (y == y[0]).all():\n",
    "        print(\"An input array is constant; the correlation coefficient \"\n",
    "                \"is not defined.\")\n",
    "        return np.nan\n",
    "\n",
    "    xmean = torch.mean(x)\n",
    "    ymean = torch.mean(y)\n",
    "\n",
    "    xm = torch.sub(x, xmean)\n",
    "    ym = torch.sub(y, ymean)\n",
    "\n",
    "    normxm = torch.linalg.norm(xm)\n",
    "    normym = torch.linalg.norm(ym)\n",
    "    \n",
    "    r = torch.matmul(xm/normxm, ym/normym)\n",
    "    \n",
    "    # Presumably, if abs(r) > 1, then it is only some small artifact of\n",
    "    # floating point arithmetic.\n",
    "    r = max(min(r, 1.0), -1.0)\n",
    "    \n",
    "    return r"
   ]
  },
  {
   "cell_type": "code",
   "execution_count": 90,
   "metadata": {},
   "outputs": [
    {
     "name": "stdout",
     "output_type": "stream",
     "text": [
      "-0.03279699949421083\n",
      "-0.03279699949421083\n"
     ]
    }
   ],
   "source": [
    "x = np.random.rand(100,)\n",
    "y = np.random.rand(100,)\n",
    "\n",
    "# check with the original function\n",
    "from scipy.stats import pearsonr\n",
    "r, p = pearsonr(x, y)\n",
    "print(r)\n",
    "\n",
    "r = scipy_pearsonr_np(x,y)\n",
    "print(r)"
   ]
  },
  {
   "cell_type": "code",
   "execution_count": 91,
   "metadata": {},
   "outputs": [
    {
     "name": "stdout",
     "output_type": "stream",
     "text": [
      "-0.03279699949421086\n"
     ]
    }
   ],
   "source": [
    "torch.set_printoptions(precision=18)\n",
    "\n",
    "x = torch.tensor(x)\n",
    "y = torch.tensor(y)\n",
    "\n",
    "r = pearsonr_torch(x,y)\n",
    "print(r.item())"
   ]
  }
 ],
 "metadata": {
  "kernelspec": {
   "display_name": "gs",
   "language": "python",
   "name": "python3"
  },
  "language_info": {
   "codemirror_mode": {
    "name": "ipython",
    "version": 3
   },
   "file_extension": ".py",
   "mimetype": "text/x-python",
   "name": "python",
   "nbconvert_exporter": "python",
   "pygments_lexer": "ipython3",
   "version": "3.7.13"
  }
 },
 "nbformat": 4,
 "nbformat_minor": 2
}
