{
 "cells": [
  {
   "cell_type": "code",
   "execution_count": 2,
   "metadata": {},
   "outputs": [],
   "source": [
    "import numpy as np\n",
    "from plyfile import PlyData, PlyElement"
   ]
  },
  {
   "cell_type": "code",
   "execution_count": 3,
   "metadata": {},
   "outputs": [],
   "source": [
    "plydata = PlyData.read('point_cloud_from_gsrandom.ply')"
   ]
  },
  {
   "cell_type": "code",
   "execution_count": 4,
   "metadata": {},
   "outputs": [
    {
     "data": {
      "text/plain": [
       "(PlyElement('vertex', (PlyProperty('x', 'float'), PlyProperty('y', 'float'), PlyProperty('z', 'float'), PlyProperty('nx', 'float'), PlyProperty('ny', 'float'), PlyProperty('nz', 'float'), PlyProperty('f_dc_0', 'float'), PlyProperty('f_dc_1', 'float'), PlyProperty('f_dc_2', 'float'), PlyProperty('f_rest_0', 'float'), PlyProperty('f_rest_1', 'float'), PlyProperty('f_rest_2', 'float'), PlyProperty('f_rest_3', 'float'), PlyProperty('f_rest_4', 'float'), PlyProperty('f_rest_5', 'float'), PlyProperty('f_rest_6', 'float'), PlyProperty('f_rest_7', 'float'), PlyProperty('f_rest_8', 'float'), PlyProperty('f_rest_9', 'float'), PlyProperty('f_rest_10', 'float'), PlyProperty('f_rest_11', 'float'), PlyProperty('f_rest_12', 'float'), PlyProperty('f_rest_13', 'float'), PlyProperty('f_rest_14', 'float'), PlyProperty('f_rest_15', 'float'), PlyProperty('f_rest_16', 'float'), PlyProperty('f_rest_17', 'float'), PlyProperty('f_rest_18', 'float'), PlyProperty('f_rest_19', 'float'), PlyProperty('f_rest_20', 'float'), PlyProperty('f_rest_21', 'float'), PlyProperty('f_rest_22', 'float'), PlyProperty('f_rest_23', 'float'), PlyProperty('f_rest_24', 'float'), PlyProperty('f_rest_25', 'float'), PlyProperty('f_rest_26', 'float'), PlyProperty('f_rest_27', 'float'), PlyProperty('f_rest_28', 'float'), PlyProperty('f_rest_29', 'float'), PlyProperty('f_rest_30', 'float'), PlyProperty('f_rest_31', 'float'), PlyProperty('f_rest_32', 'float'), PlyProperty('f_rest_33', 'float'), PlyProperty('f_rest_34', 'float'), PlyProperty('f_rest_35', 'float'), PlyProperty('f_rest_36', 'float'), PlyProperty('f_rest_37', 'float'), PlyProperty('f_rest_38', 'float'), PlyProperty('f_rest_39', 'float'), PlyProperty('f_rest_40', 'float'), PlyProperty('f_rest_41', 'float'), PlyProperty('f_rest_42', 'float'), PlyProperty('f_rest_43', 'float'), PlyProperty('f_rest_44', 'float'), PlyProperty('opacity', 'float'), PlyProperty('scale_0', 'float'), PlyProperty('scale_1', 'float'), PlyProperty('scale_2', 'float'), PlyProperty('rot_0', 'float'), PlyProperty('rot_1', 'float'), PlyProperty('rot_2', 'float'), PlyProperty('rot_3', 'float')), count=2105042, comments=[]),)"
      ]
     },
     "execution_count": 4,
     "metadata": {},
     "output_type": "execute_result"
    }
   ],
   "source": [
    "plydata.elements"
   ]
  },
  {
   "cell_type": "code",
   "execution_count": 5,
   "metadata": {},
   "outputs": [
    {
     "data": {
      "text/plain": [
       "memmap([(-0.16227326,  1.0186098 ,  1.2055231, 0., 0., 0.,  1.5614550e-04,  2.1731481e-03,  1.17605657e-03,  0.        ,  0.        ,  0.        ,  0.        ,  0.        ,  0.        ,  0.        ,  0.        ,  0.        ,  0.        ,  0.        ,  0.        ,  0.        , 0.        ,  0.        ,  0.        ,  0.        ,  0.        ,  0.        ,  0.        ,  0.        ,  0.        ,  0.        ,  0.        ,  0.        ,  0.        ,  0.        ,  0.        , 0.        ,  0.        ,  0.        ,  0.        ,  0.        ,  0.        ,  0.        ,  0.        ,  0.        ,  0.        ,  0.        ,  0.        ,  0.        ,  0.        ,  0.        , 0.        ,  0.        , -4.59512 ,  -3.5787675,  -3.5787675,  -3.5787675, 1.        ,  0.        ,  0.        ,  0.        ),\n",
       "        (-0.30057022,  0.7727874 ,  0.0896394, 0., 0., 0., -1.0617955e-01, -9.7934879e-02, -1.04878105e-01,  0.        ,  0.        ,  0.        ,  0.        ,  0.        ,  0.        ,  0.        ,  0.        ,  0.        ,  0.        ,  0.        ,  0.        ,  0.        , 0.        ,  0.        ,  0.        ,  0.        ,  0.        ,  0.        ,  0.        ,  0.        ,  0.        ,  0.        ,  0.        ,  0.        ,  0.        ,  0.        ,  0.        , 0.        ,  0.        ,  0.        ,  0.        ,  0.        ,  0.        ,  0.        ,  0.        ,  0.        ,  0.        ,  0.        ,  0.        ,  0.        ,  0.        ,  0.        , 0.        ,  0.        , -4.839089,  -3.196197 ,  -3.2409546,  -3.2435644, 0.9982788 , -0.00504293,  0.01555259,  0.00368259),\n",
       "        (-1.0734638 , -1.2474321 ,  0.8648116, 0., 0., 0.,  7.1459275e-04,  3.7675647e-03,  1.07400212e-03,  0.        ,  0.        ,  0.        ,  0.        ,  0.        ,  0.        ,  0.        ,  0.        ,  0.        ,  0.        ,  0.        ,  0.        ,  0.        , 0.        ,  0.        ,  0.        ,  0.        ,  0.        ,  0.        ,  0.        ,  0.        ,  0.        ,  0.        ,  0.        ,  0.        ,  0.        ,  0.        ,  0.        , 0.        ,  0.        ,  0.        ,  0.        ,  0.        ,  0.        ,  0.        ,  0.        ,  0.        ,  0.        ,  0.        ,  0.        ,  0.        ,  0.        ,  0.        , 0.        ,  0.        , -4.59512 ,  -3.3899107,  -3.3899107,  -3.3899107, 1.        ,  0.        ,  0.        ,  0.        ),\n",
       "        ...,\n",
       "        (-0.28060248, -0.93257034, -1.7153531, 0., 0., 0.,  2.5818486e+00,  2.4580162e+00,  2.15243888e+00,  0.11667284, -0.11969419, -0.09008805, -0.10536207, -0.14376043,  0.09896404,  0.11624052, -0.12547378, -0.2289695 ,  0.08790714,  0.16999047,  0.02173045, -0.09154525, 0.16237423,  0.05588414,  0.11489114, -0.11993753, -0.08774304, -0.10242695, -0.14844984,  0.11488518,  0.1143062 , -0.15516095, -0.22452642,  0.0971967 ,  0.18130803,  0.03260851, -0.1015644 , 0.19454105,  0.07356407,  0.11669651, -0.12881996, -0.09466797, -0.10110764, -0.15205994,  0.12644605,  0.1223513 , -0.1470417 , -0.20229344,  0.10800859,  0.1874361 ,  0.03593153, -0.12732533, 0.19071649,  0.06614418, 16.69092 , -16.397978 ,  -5.934362 ,  -3.6549811, 0.38222826, -0.33433795, -0.5188504 , -0.5117073 ),\n",
       "        (-0.06011886,  0.55129355, -1.710792 , 0., 0., 0., -2.1768544e+00, -2.0978065e+00, -1.88377404e+00, -0.20682752,  0.08148256,  0.05121491,  0.15535769,  0.28626078,  0.02943015,  0.02205086, -0.29293084,  0.06864747, -0.18397088, -0.3047978 , -0.09929237, -0.10014752, 0.26636186,  0.33019677, -0.21502934,  0.07032746,  0.07363705,  0.12954488,  0.3010291 ,  0.05385639,  0.00324204, -0.3358604 ,  0.08955508, -0.1668695 , -0.32081804, -0.13195212, -0.08278559, 0.30301207,  0.37871027, -0.22229065,  0.08199205, -0.00143557,  0.14941992,  0.25236425, -0.00103406,  0.00998981, -0.44494653,  0.18637179, -0.1892544 , -0.2979957 , -0.10211354, -0.07924324, 0.39987728,  0.37912664,  7.753167,  -4.5742984, -10.134451 , -18.164768 , 1.0618922 ,  0.21069826, -0.8172283 ,  0.16217293),\n",
       "        ( 0.1586591 ,  0.7511141 , -1.430364 , 0., 0., 0., -4.8044610e-01, -6.9002783e-01, -4.00148213e-01,  0.08643092,  0.05360831,  0.112476  , -0.09298883, -0.06945758, -0.05021286, -0.16141239,  0.05295074, -0.01638299,  0.17523243,  0.07382144,  0.02638939,  0.324704  , 0.03359273, -0.20636164,  0.09782416,  0.06910878,  0.11568493, -0.08740944, -0.07440458, -0.05157045, -0.1403107 ,  0.01606408, -0.00375733,  0.14962049,  0.08016481,  0.01009115,  0.20014824, 0.06164911, -0.1349954 ,  0.13171819,  0.12969045,  0.13149865, -0.1036069 , -0.08488323, -0.10472129, -0.14765856, -0.00690279,  0.03427204,  0.14803451,  0.07973845,  0.06196653,  0.21294728, 0.08914804, -0.1437169 , 17.017153,  -6.101206 ,  -8.0025015,  -4.1634607, 0.7471301 ,  0.06849677,  0.45927426,  0.40261823)],\n",
       "       dtype=[('x', '<f4'), ('y', '<f4'), ('z', '<f4'), ('nx', '<f4'), ('ny', '<f4'), ('nz', '<f4'), ('f_dc_0', '<f4'), ('f_dc_1', '<f4'), ('f_dc_2', '<f4'), ('f_rest_0', '<f4'), ('f_rest_1', '<f4'), ('f_rest_2', '<f4'), ('f_rest_3', '<f4'), ('f_rest_4', '<f4'), ('f_rest_5', '<f4'), ('f_rest_6', '<f4'), ('f_rest_7', '<f4'), ('f_rest_8', '<f4'), ('f_rest_9', '<f4'), ('f_rest_10', '<f4'), ('f_rest_11', '<f4'), ('f_rest_12', '<f4'), ('f_rest_13', '<f4'), ('f_rest_14', '<f4'), ('f_rest_15', '<f4'), ('f_rest_16', '<f4'), ('f_rest_17', '<f4'), ('f_rest_18', '<f4'), ('f_rest_19', '<f4'), ('f_rest_20', '<f4'), ('f_rest_21', '<f4'), ('f_rest_22', '<f4'), ('f_rest_23', '<f4'), ('f_rest_24', '<f4'), ('f_rest_25', '<f4'), ('f_rest_26', '<f4'), ('f_rest_27', '<f4'), ('f_rest_28', '<f4'), ('f_rest_29', '<f4'), ('f_rest_30', '<f4'), ('f_rest_31', '<f4'), ('f_rest_32', '<f4'), ('f_rest_33', '<f4'), ('f_rest_34', '<f4'), ('f_rest_35', '<f4'), ('f_rest_36', '<f4'), ('f_rest_37', '<f4'), ('f_rest_38', '<f4'), ('f_rest_39', '<f4'), ('f_rest_40', '<f4'), ('f_rest_41', '<f4'), ('f_rest_42', '<f4'), ('f_rest_43', '<f4'), ('f_rest_44', '<f4'), ('opacity', '<f4'), ('scale_0', '<f4'), ('scale_1', '<f4'), ('scale_2', '<f4'), ('rot_0', '<f4'), ('rot_1', '<f4'), ('rot_2', '<f4'), ('rot_3', '<f4')])"
      ]
     },
     "execution_count": 5,
     "metadata": {},
     "output_type": "execute_result"
    }
   ],
   "source": [
    "# all data\n",
    "plydata['vertex'].data"
   ]
  },
  {
   "cell_type": "code",
   "execution_count": 6,
   "metadata": {},
   "outputs": [
    {
     "name": "stdout",
     "output_type": "stream",
     "text": [
      "[('x', '<f4'), ('y', '<f4'), ('z', '<f4'), ('nx', '<f4'), ('ny', '<f4'), ('nz', '<f4'), ('f_dc_0', '<f4'), ('f_dc_1', '<f4'), ('f_dc_2', '<f4'), ('f_rest_0', '<f4'), ('f_rest_1', '<f4'), ('f_rest_2', '<f4'), ('f_rest_3', '<f4'), ('f_rest_4', '<f4'), ('f_rest_5', '<f4'), ('f_rest_6', '<f4'), ('f_rest_7', '<f4'), ('f_rest_8', '<f4'), ('f_rest_9', '<f4'), ('f_rest_10', '<f4'), ('f_rest_11', '<f4'), ('f_rest_12', '<f4'), ('f_rest_13', '<f4'), ('f_rest_14', '<f4'), ('f_rest_15', '<f4'), ('f_rest_16', '<f4'), ('f_rest_17', '<f4'), ('f_rest_18', '<f4'), ('f_rest_19', '<f4'), ('f_rest_20', '<f4'), ('f_rest_21', '<f4'), ('f_rest_22', '<f4'), ('f_rest_23', '<f4'), ('f_rest_24', '<f4'), ('f_rest_25', '<f4'), ('f_rest_26', '<f4'), ('f_rest_27', '<f4'), ('f_rest_28', '<f4'), ('f_rest_29', '<f4'), ('f_rest_30', '<f4'), ('f_rest_31', '<f4'), ('f_rest_32', '<f4'), ('f_rest_33', '<f4'), ('f_rest_34', '<f4'), ('f_rest_35', '<f4'), ('f_rest_36', '<f4'), ('f_rest_37', '<f4'), ('f_rest_38', '<f4'), ('f_rest_39', '<f4'), ('f_rest_40', '<f4'), ('f_rest_41', '<f4'), ('f_rest_42', '<f4'), ('f_rest_43', '<f4'), ('f_rest_44', '<f4'), ('opacity', '<f4'), ('scale_0', '<f4'), ('scale_1', '<f4'), ('scale_2', '<f4'), ('rot_0', '<f4'), ('rot_1', '<f4'), ('rot_2', '<f4'), ('rot_3', '<f4')]\n"
     ]
    }
   ],
   "source": [
    "# dtype of all data\n",
    "all_dtype = plydata['vertex'].data.dtype\n",
    "print(all_dtype)"
   ]
  },
  {
   "cell_type": "code",
   "execution_count": 7,
   "metadata": {},
   "outputs": [
    {
     "data": {
      "text/plain": [
       "(PlyProperty('x', 'float'),\n",
       " PlyProperty('y', 'float'),\n",
       " PlyProperty('z', 'float'),\n",
       " PlyProperty('nx', 'float'),\n",
       " PlyProperty('ny', 'float'),\n",
       " PlyProperty('nz', 'float'),\n",
       " PlyProperty('f_dc_0', 'float'),\n",
       " PlyProperty('f_dc_1', 'float'),\n",
       " PlyProperty('f_dc_2', 'float'),\n",
       " PlyProperty('f_rest_0', 'float'),\n",
       " PlyProperty('f_rest_1', 'float'),\n",
       " PlyProperty('f_rest_2', 'float'),\n",
       " PlyProperty('f_rest_3', 'float'),\n",
       " PlyProperty('f_rest_4', 'float'),\n",
       " PlyProperty('f_rest_5', 'float'),\n",
       " PlyProperty('f_rest_6', 'float'),\n",
       " PlyProperty('f_rest_7', 'float'),\n",
       " PlyProperty('f_rest_8', 'float'),\n",
       " PlyProperty('f_rest_9', 'float'),\n",
       " PlyProperty('f_rest_10', 'float'),\n",
       " PlyProperty('f_rest_11', 'float'),\n",
       " PlyProperty('f_rest_12', 'float'),\n",
       " PlyProperty('f_rest_13', 'float'),\n",
       " PlyProperty('f_rest_14', 'float'),\n",
       " PlyProperty('f_rest_15', 'float'),\n",
       " PlyProperty('f_rest_16', 'float'),\n",
       " PlyProperty('f_rest_17', 'float'),\n",
       " PlyProperty('f_rest_18', 'float'),\n",
       " PlyProperty('f_rest_19', 'float'),\n",
       " PlyProperty('f_rest_20', 'float'),\n",
       " PlyProperty('f_rest_21', 'float'),\n",
       " PlyProperty('f_rest_22', 'float'),\n",
       " PlyProperty('f_rest_23', 'float'),\n",
       " PlyProperty('f_rest_24', 'float'),\n",
       " PlyProperty('f_rest_25', 'float'),\n",
       " PlyProperty('f_rest_26', 'float'),\n",
       " PlyProperty('f_rest_27', 'float'),\n",
       " PlyProperty('f_rest_28', 'float'),\n",
       " PlyProperty('f_rest_29', 'float'),\n",
       " PlyProperty('f_rest_30', 'float'),\n",
       " PlyProperty('f_rest_31', 'float'),\n",
       " PlyProperty('f_rest_32', 'float'),\n",
       " PlyProperty('f_rest_33', 'float'),\n",
       " PlyProperty('f_rest_34', 'float'),\n",
       " PlyProperty('f_rest_35', 'float'),\n",
       " PlyProperty('f_rest_36', 'float'),\n",
       " PlyProperty('f_rest_37', 'float'),\n",
       " PlyProperty('f_rest_38', 'float'),\n",
       " PlyProperty('f_rest_39', 'float'),\n",
       " PlyProperty('f_rest_40', 'float'),\n",
       " PlyProperty('f_rest_41', 'float'),\n",
       " PlyProperty('f_rest_42', 'float'),\n",
       " PlyProperty('f_rest_43', 'float'),\n",
       " PlyProperty('f_rest_44', 'float'),\n",
       " PlyProperty('opacity', 'float'),\n",
       " PlyProperty('scale_0', 'float'),\n",
       " PlyProperty('scale_1', 'float'),\n",
       " PlyProperty('scale_2', 'float'),\n",
       " PlyProperty('rot_0', 'float'),\n",
       " PlyProperty('rot_1', 'float'),\n",
       " PlyProperty('rot_2', 'float'),\n",
       " PlyProperty('rot_3', 'float'))"
      ]
     },
     "execution_count": 7,
     "metadata": {},
     "output_type": "execute_result"
    }
   ],
   "source": [
    "plydata['vertex'].properties"
   ]
  },
  {
   "cell_type": "code",
   "execution_count": 8,
   "metadata": {},
   "outputs": [
    {
     "name": "stdout",
     "output_type": "stream",
     "text": [
      "x\n",
      "y\n",
      "z\n",
      "nx\n",
      "ny\n",
      "nz\n",
      "f_dc_0\n",
      "f_dc_1\n",
      "f_dc_2\n",
      "f_rest_0\n",
      "f_rest_1\n",
      "f_rest_2\n",
      "f_rest_3\n",
      "f_rest_4\n",
      "f_rest_5\n",
      "f_rest_6\n",
      "f_rest_7\n",
      "f_rest_8\n",
      "f_rest_9\n",
      "f_rest_10\n",
      "f_rest_11\n",
      "f_rest_12\n",
      "f_rest_13\n",
      "f_rest_14\n",
      "f_rest_15\n",
      "f_rest_16\n",
      "f_rest_17\n",
      "f_rest_18\n",
      "f_rest_19\n",
      "f_rest_20\n",
      "f_rest_21\n",
      "f_rest_22\n",
      "f_rest_23\n",
      "f_rest_24\n",
      "f_rest_25\n",
      "f_rest_26\n",
      "f_rest_27\n",
      "f_rest_28\n",
      "f_rest_29\n",
      "f_rest_30\n",
      "f_rest_31\n",
      "f_rest_32\n",
      "f_rest_33\n",
      "f_rest_34\n",
      "f_rest_35\n",
      "f_rest_36\n",
      "f_rest_37\n",
      "f_rest_38\n",
      "f_rest_39\n",
      "f_rest_40\n",
      "f_rest_41\n",
      "f_rest_42\n",
      "f_rest_43\n",
      "f_rest_44\n",
      "opacity\n",
      "scale_0\n",
      "scale_1\n",
      "scale_2\n",
      "rot_0\n",
      "rot_1\n",
      "rot_2\n",
      "rot_3\n"
     ]
    }
   ],
   "source": [
    "for prop in plydata['vertex'].properties:\n",
    "    print(prop.name)"
   ]
  },
  {
   "cell_type": "code",
   "execution_count": 9,
   "metadata": {},
   "outputs": [
    {
     "data": {
      "text/plain": [
       "memmap([-0.16227326, -0.30057022, -1.0734638 , ..., -0.28060248,\n",
       "        -0.06011886,  0.1586591 ], dtype=float32)"
      ]
     },
     "execution_count": 9,
     "metadata": {},
     "output_type": "execute_result"
    }
   ],
   "source": [
    "# getting a specific property of all points\n",
    "plydata['vertex'].data['x']\n",
    "plydata['vertex']['x']"
   ]
  },
  {
   "cell_type": "code",
   "execution_count": 10,
   "metadata": {},
   "outputs": [],
   "source": [
    "X = np.array(plydata['vertex']['x']).reshape(-1,1)\n",
    "Y = np.array(plydata['vertex']['y']).reshape(-1,1)\n",
    "Z = np.array(plydata['vertex']['z']).reshape(-1,1)\n",
    "\n",
    "xyz = np.concatenate([X,Y,Z], axis =1)\n",
    "\n",
    "\n",
    "r = np.array(plydata['vertex']['f_dc_0']).reshape(-1,1)\n",
    "g = np.array(plydata['vertex']['f_dc_1']).reshape(-1,1)\n",
    "b = np.array(plydata['vertex']['f_dc_2']).reshape(-1,1)\n",
    "\n",
    "C0 = 0.28209479177387814\n",
    "def SH2RGB(sh):\n",
    "    return sh * C0 + 0.5\n",
    "\n",
    "\n",
    "rgb = np.concatenate([SH2RGB(r),SH2RGB(g),SH2RGB(b)], axis =1)\n",
    "\n",
    "np.save(\"orig_xyz_from_gsrandom.npy\", xyz)\n",
    "np.save(\"orig_rgb_from_gsrandom.npy\", rgb)\n"
   ]
  },
  {
   "cell_type": "code",
   "execution_count": 9,
   "metadata": {},
   "outputs": [
    {
     "name": "stdout",
     "output_type": "stream",
     "text": [
      "(-0.16227326, 1.0186098, 1.2055231, 0., 0., 0., 0.00015615, 0.00217315, 0.00117606, 0., 0., 0., 0., 0., 0., 0., 0., 0., 0., 0., 0., 0., 0., 0., 0., 0., 0., 0., 0., 0., 0., 0., 0., 0., 0., 0., 0., 0., 0., 0., 0., 0., 0., 0., 0., 0., 0., 0., 0., 0., 0., 0., 0., 0., -4.59512, -3.5787675, -3.5787675, -3.5787675, 1., 0., 0., 0.)\n",
      "(0.30248547, -0.0535024, 1.2563165, 0., 0., 0., 0.00061529, 0.0032575, 0.00320151, 0., 0., 0., 0., 0., 0., 0., 0., 0., 0., 0., 0., 0., 0., 0., 0., 0., 0., 0., 0., 0., 0., 0., 0., 0., 0., 0., 0., 0., 0., 0., 0., 0., 0., 0., 0., 0., 0., 0., 0., 0., 0., 0., 0., 0., -4.59512, -3.4116976, -3.4116976, -3.4116976, 1., 0., 0., 0.)\n",
      "There are 62 properties for each point\n"
     ]
    }
   ],
   "source": [
    "# get all properties of a specific point\n",
    "print(plydata['vertex'][0])\n",
    "print(plydata['vertex'][2000])\n",
    "print(f\"There are {len(plydata['vertex'][0])} properties for each point\")"
   ]
  },
  {
   "cell_type": "code",
   "execution_count": 10,
   "metadata": {},
   "outputs": [
    {
     "data": {
      "text/plain": [
       "-0.16227326"
      ]
     },
     "execution_count": 10,
     "metadata": {},
     "output_type": "execute_result"
    }
   ],
   "source": [
    "# get a specific property of a specific point\n",
    "plydata['vertex'][0]['x']"
   ]
  },
  {
   "cell_type": "code",
   "execution_count": 11,
   "metadata": {},
   "outputs": [
    {
     "name": "stdout",
     "output_type": "stream",
     "text": [
      "(0., 1.0186098, 1.2055231, 0., 0., 0., 0.00015615, 0.00217315, 0.00117606, 0., 0., 0., 0., 0., 0., 0., 0., 0., 0., 0., 0., 0., 0., 0., 0., 0., 0., 0., 0., 0., 0., 0., 0., 0., 0., 0., 0., 0., 0., 0., 0., 0., 0., 0., 0., 0., 0., 0., 0., 0., 0., 0., 0., 0., -4.59512, -3.5787675, -3.5787675, -3.5787675, 1., 0., 0., 0.)\n"
     ]
    }
   ],
   "source": [
    "# Edit a specific property of a specific point\n",
    "plydata['vertex'][0]['x'] = 0\n",
    "print(plydata['vertex'][0])"
   ]
  },
  {
   "cell_type": "code",
   "execution_count": 12,
   "metadata": {},
   "outputs": [
    {
     "name": "stdout",
     "output_type": "stream",
     "text": [
      "(0., 1.0186098, 1.2055231, 0., 0., 0., 0.00015615, 0.00217315, 0.00117606, 0., 0., 0., 0., 0., 0., 0., 0., 0., 0., 0., 0., 0., 0., 0., 0., 0., 0., 0., 0., 0., 0., 0., 0., 0., 0., 0., 0., 0., 0., 0., 0., 0., 0., 0., 0., 0., 0., 0., 0., 0., 0., 0., 0., 0., -4.59512, -3.5787675, -3.5787675, -3.5787675, 1., 0., 0., 0.)\n",
      "(-0.30057022, 0.7727874, 0.0896394, 0., 0., 0., -0.10617955, -0.09793488, -0.10487811, 0., 0., 0., 0., 0., 0., 0., 0., 0., 0., 0., 0., 0., 0., 0., 0., 0., 0., 0., 0., 0., 0., 0., 0., 0., 0., 0., 0., 0., 0., 0., 0., 0., 0., 0., 0., 0., 0., 0., 0., 0., 0., 0., 0., 0., -4.839089, -3.196197, -3.2409546, -3.2435644, 0.9982788, -0.00504293, 0.01555259, 0.00368259)\n",
      "(-1.0734638, -1.2474321, 0.8648116, 0., 0., 0., 0.00071459, 0.00376756, 0.001074, 0., 0., 0., 0., 0., 0., 0., 0., 0., 0., 0., 0., 0., 0., 0., 0., 0., 0., 0., 0., 0., 0., 0., 0., 0., 0., 0., 0., 0., 0., 0., 0., 0., 0., 0., 0., 0., 0., 0., 0., 0., 0., 0., 0., 0., -4.59512, -3.3899107, -3.3899107, -3.3899107, 1., 0., 0., 0.)\n",
      "(0.72320753, 0.9620316, 1.2444077, 0., 0., 0., 0.00045005, 0.00158554, 0.0020861, 0., 0., 0., 0., 0., 0., 0., 0., 0., 0., 0., 0., 0., 0., 0., 0., 0., 0., 0., 0., 0., 0., 0., 0., 0., 0., 0., 0., 0., 0., 0., 0., 0., 0., 0., 0., 0., 0., 0., 0., 0., 0., 0., 0., 0., -4.59512, -3.117037, -3.117037, -3.117037, 1., 0., 0., 0.)\n",
      "(0.18638961, -1.2538139, 0.29294533, 0., 0., 0., 0.68177754, 0.40186322, 0.45779824, 0.03448022, 0.02700536, -0.03470158, -0.03547868, 0.02711131, -0.03725896, -0.02827292, 0.04179126, 0.03684597, -0.02861919, -0.04128224, -0.02913252, 0.04059597, 0.04161872, 0.03684592, 0.02191331, 0.02095316, -0.0187731, -0.02060336, 0.0229056, -0.01974012, -0.01946877, 0.00807868, 0.01756096, -0.02143013, -0.02117662, -0.02064572, 0.01833199, 0.00700984, 0.02824045, 0.02307211, 0.01925382, -0.02320027, -0.02343009, 0.01922456, -0.02433064, -0.01985756, 0.03263782, 0.02413762, -0.01991125, -0.02602999, -0.02009891, 0.0261127, 0.0327098, 0.02399963, 4.38433, -2.7469714, -3.2177002, -3.5732472, 0.92111915, 0.11260518, -0.25508392, 0.03404174)\n",
      "(0.2914489, 0.3040284, 1.153745, 0., 0., 0., 0.00087222, 0.00168696, 0.00105477, 0., 0., 0., 0., 0., 0., 0., 0., 0., 0., 0., 0., 0., 0., 0., 0., 0., 0., 0., 0., 0., 0., 0., 0., 0., 0., 0., 0., 0., 0., 0., 0., 0., 0., 0., 0., 0., 0., 0., 0., 0., 0., 0., 0., 0., -4.59512, -3.360774, -3.360774, -3.360774, 1., 0., 0., 0.)\n",
      "(0.5109717, -1.1503655, 0.43318823, 0., 0., 0., 0.7454144, 0.83206135, 0.42028844, 0.03595535, 0.03468519, -0.03503541, -0.02932291, 0.02939914, -0.02870252, -0.02850515, 0.02619932, 0.03679094, -0.0374961, -0.03753718, -0.0372217, 0.03615342, 0.03578452, 0.04608433, 0.03975247, 0.03576929, -0.04202458, -0.03076446, 0.02500726, -0.03305212, -0.0270962, 0.03522775, 0.03983987, -0.03364014, -0.04164351, -0.03505024, 0.04333273, 0.03898112, 0.02087923, 0.0645585, 0.06259458, -0.0658162, -0.05973133, 0.05734101, -0.06051918, -0.05847003, 0.06127561, 0.0655252, -0.06365233, -0.06598139, -0.06428391, 0.06616201, 0.06617473, 0.05896451, -2.91465, -4.0618386, -4.098721, -2.8895006, 1.1234, -0.14109339, -0.06697349, -0.04614472)\n",
      "(-0.15062127, 1.2851503, -1.0192122, 0., 0., 0., -0.11348127, -0.14936455, -0.16141829, -0.00900499, -0.00900322, -0.00900828, 0.00613085, 0.00613129, 0.00613122, 0.00613114, -0.00613087, 0., 0., 0., 0., 0., 0., 0., 0.00210648, 0.00210425, 0.00210784, -0.00864762, -0.00864825, -0.00864825, -0.00864796, 0.00864782, 0., 0., 0., 0., 0., 0., 0., -0.00246892, -0.00247003, -0.0024654, -0.00531733, -0.00531827, -0.0053183, -0.00531785, 0.0053176, 0., 0., 0., 0., 0., 0., 0., -5.122179, -3.5069041, -3.5421436, -3.5292704, 0.9558994, 0.04318476, 0.04626592, -0.04645053)\n",
      "(-0.7774599, -0.8645142, 0.36383873, 0., 0., 0., 0.9333316, 0.7641319, 0.6817059, 0.02431774, -0.01612033, 0.03190258, 0.05587336, -0.02820493, -0.0346138, -0.01498219, 0.00436052, -0.00100827, -0.00739589, -0.00952996, 0.02688644, -0.01932234, 0.00735612, -0.02484049, 0.01534192, -0.01606018, 0.02651439, 0.05166733, -0.03149046, -0.02480306, -0.00294582, 0.00112036, -0.004516, -0.00030918, -0.00685321, 0.02678221, -0.01387054, 0.01135587, -0.02586202, 0.01186241, -0.01901563, 0.02190821, 0.04603066, -0.0406719, -0.0228363, 0.00402011, -0.00597489, -0.00921859, 0.00361062, -0.00818549, 0.02939757, -0.00815098, 0.02012595, -0.02667403, -3.4215815, -2.9426072, -3.0218997, -2.7753928, 1.0465423, 0.12450379, 0.14857313, -0.16782363)\n",
      "(-0.88024527, -1.0151736, 0.37068695, 0., 0., 0., 1.2436007, 0.99341214, 0.9356837, 0.07307212, -0.03821607, 0.0594999, 0.0380658, -0.01478461, -0.04478138, -0.05485496, 0.02993993, 0.02290731, -0.04271263, -0.02414375, 0.00922191, -0.02867648, -0.04455254, -0.01297177, 0.06247548, -0.02279216, 0.04539983, 0.0227406, 0.00109658, -0.0307008, -0.04411219, 0.01365663, 0.01241345, -0.03790268, -0.01379756, -0.00230709, -0.01883649, -0.04588184, -0.00122548, 0.05927115, -0.01658953, 0.04344057, 0.02140757, 0.00819521, -0.02891346, -0.04115122, 0.01173095, 0.01849802, -0.04329861, -0.01994525, 0.00058598, -0.02480379, -0.05305698, -0.00594127, -2.9608786, -3.5940034, -3.798749, -3.2940562, 1.1106019, 0.02260722, -0.12601583, 0.17188564)\n",
      "(-1.0501442, 1.2387946, -0.08150688, 0., 0., 0., 0.0006231, 0.00249347, 0.00308931, 0., 0., 0., 0., 0., 0., 0., 0., 0., 0., 0., 0., 0., 0., 0., 0., 0., 0., 0., 0., 0., 0., 0., 0., 0., 0., 0., 0., 0., 0., 0., 0., 0., 0., 0., 0., 0., 0., 0., 0., 0., 0., 0., 0., 0., -4.59512, -3.25034, -3.25034, -3.25034, 1., 0., 0., 0.)\n"
     ]
    }
   ],
   "source": [
    "# Loop through each row\n",
    "for idx in range(len(plydata['vertex'])):\n",
    "    print(plydata['vertex'][idx])\n",
    "\n",
    "    if idx == 10:\n",
    "        break"
   ]
  },
  {
   "cell_type": "code",
   "execution_count": 13,
   "metadata": {},
   "outputs": [
    {
     "name": "stdout",
     "output_type": "stream",
     "text": [
      "x  | MIN =  -12.588441  | MAX =  101.76686\n",
      "y  | MIN =  -41.550247  | MAX =  20.992348\n",
      "z  | MIN =  -42.601864  | MAX =  26.393255\n",
      "nx  | MIN =  0.0  | MAX =  0.0\n",
      "ny  | MIN =  0.0  | MAX =  0.0\n",
      "nz  | MIN =  0.0  | MAX =  0.0\n",
      "f_dc_0  | MIN =  -2.4695938  | MAX =  8.59931\n",
      "f_dc_1  | MIN =  -2.47731  | MAX =  5.4914937\n",
      "f_dc_2  | MIN =  -2.450226  | MAX =  8.001016\n",
      "f_rest_0  | MIN =  -0.35196713  | MAX =  0.39457437\n",
      "f_rest_1  | MIN =  -0.36397848  | MAX =  0.3271716\n",
      "f_rest_2  | MIN =  -0.35777822  | MAX =  0.40375134\n",
      "f_rest_3  | MIN =  -0.3639317  | MAX =  0.33928588\n",
      "f_rest_4  | MIN =  -0.4179439  | MAX =  0.39280286\n",
      "f_rest_5  | MIN =  -0.35033676  | MAX =  0.39118072\n",
      "f_rest_6  | MIN =  -0.4141301  | MAX =  0.37575665\n",
      "f_rest_7  | MIN =  -0.36761844  | MAX =  0.4300922\n",
      "f_rest_8  | MIN =  -0.4203376  | MAX =  0.37308353\n",
      "f_rest_9  | MIN =  -0.37499738  | MAX =  0.3340437\n",
      "f_rest_10  | MIN =  -0.45494026  | MAX =  0.4468362\n",
      "f_rest_11  | MIN =  -0.51603836  | MAX =  0.46157533\n",
      "f_rest_12  | MIN =  -0.40356746  | MAX =  0.3966286\n",
      "f_rest_13  | MIN =  -0.39193973  | MAX =  0.3770667\n",
      "f_rest_14  | MIN =  -0.45569456  | MAX =  0.4223844\n",
      "f_rest_15  | MIN =  -0.34933114  | MAX =  0.3802871\n",
      "f_rest_16  | MIN =  -0.36881298  | MAX =  0.32742125\n",
      "f_rest_17  | MIN =  -0.349213  | MAX =  0.34146217\n",
      "f_rest_18  | MIN =  -0.3484664  | MAX =  0.37706506\n",
      "f_rest_19  | MIN =  -0.36426353  | MAX =  0.37596548\n",
      "f_rest_20  | MIN =  -0.32180524  | MAX =  0.39748788\n",
      "f_rest_21  | MIN =  -0.3550685  | MAX =  0.35739577\n",
      "f_rest_22  | MIN =  -0.40744326  | MAX =  0.36964986\n",
      "f_rest_23  | MIN =  -0.34954336  | MAX =  0.37481686\n",
      "f_rest_24  | MIN =  -0.3750574  | MAX =  0.33494297\n",
      "f_rest_25  | MIN =  -0.42454648  | MAX =  0.43559518\n",
      "f_rest_26  | MIN =  -0.4887344  | MAX =  0.43619856\n",
      "f_rest_27  | MIN =  -0.5137961  | MAX =  0.42165723\n",
      "f_rest_28  | MIN =  -0.38421136  | MAX =  0.38696992\n",
      "f_rest_29  | MIN =  -0.45987913  | MAX =  0.42236945\n",
      "f_rest_30  | MIN =  -0.40873742  | MAX =  0.36254013\n",
      "f_rest_31  | MIN =  -0.40813172  | MAX =  0.3458692\n",
      "f_rest_32  | MIN =  -0.39267564  | MAX =  0.36807486\n",
      "f_rest_33  | MIN =  -0.35073456  | MAX =  0.34919208\n",
      "f_rest_34  | MIN =  -0.40134987  | MAX =  0.3690078\n",
      "f_rest_35  | MIN =  -0.3273225  | MAX =  0.39133883\n",
      "f_rest_36  | MIN =  -0.41356117  | MAX =  0.34435642\n",
      "f_rest_37  | MIN =  -0.37165907  | MAX =  0.39445192\n",
      "f_rest_38  | MIN =  -0.35900494  | MAX =  0.35636318\n",
      "f_rest_39  | MIN =  -0.38780057  | MAX =  0.32485947\n",
      "f_rest_40  | MIN =  -0.45282036  | MAX =  0.40607634\n",
      "f_rest_41  | MIN =  -0.5240243  | MAX =  0.4181094\n",
      "f_rest_42  | MIN =  -0.3806181  | MAX =  0.49230328\n",
      "f_rest_43  | MIN =  -0.37723655  | MAX =  0.38966137\n",
      "f_rest_44  | MIN =  -0.43139115  | MAX =  0.46876508\n",
      "opacity  | MIN =  -7.121486  | MAX =  17.963503\n",
      "scale_0  | MIN =  -17.205036  | MAX =  0.8012684\n",
      "scale_1  | MIN =  -14.446569  | MAX =  1.4214844\n",
      "scale_2  | MIN =  -14.148008  | MAX =  0.8251831\n",
      "rot_0  | MIN =  -0.21151945  | MAX =  3.0790951\n",
      "rot_1  | MIN =  -1.8869957  | MAX =  1.3762854\n",
      "rot_2  | MIN =  -1.8409461  | MAX =  1.5223329\n",
      "rot_3  | MIN =  -1.1413654  | MAX =  1.3040748\n"
     ]
    }
   ],
   "source": [
    "# loop through each property\n",
    "for prop in plydata['vertex'].properties:\n",
    "    # print(len(plydata['vertex'][prop.name]))\n",
    "    print(prop.name, \" | MIN = \", plydata['vertex'][prop.name].min(), \" | MAX = \", plydata['vertex'][prop.name].max())"
   ]
  },
  {
   "cell_type": "code",
   "execution_count": 13,
   "metadata": {},
   "outputs": [
    {
     "name": "stdout",
     "output_type": "stream",
     "text": [
      "2104080\n"
     ]
    }
   ],
   "source": [
    "# Loop through each row & Filter by x, y, z coordination\n",
    "thres = 2\n",
    "\n",
    "keep_data = []\n",
    "\n",
    "for idx in range(len(plydata['vertex'])):\n",
    "\n",
    "    x = plydata['vertex'][idx]['x']\n",
    "    y = plydata['vertex'][idx]['y']\n",
    "    z = plydata['vertex'][idx]['z']\n",
    "    \n",
    "    if (-thres <= x <= thres) and (-thres <= y <= thres) and (-thres <= z <= thres):\n",
    "        keep_data.append(plydata['vertex'][idx])\n",
    "\n",
    "print(len(keep_data))"
   ]
  },
  {
   "cell_type": "code",
   "execution_count": 33,
   "metadata": {},
   "outputs": [
    {
     "name": "stdout",
     "output_type": "stream",
     "text": [
      "1285247\n",
      "584906\n"
     ]
    }
   ],
   "source": [
    "# Loop through each row & Filter by RGB OR HSV (f_dc_0, f_dc_1, f_dc_2)\n",
    "# https://github.com/graphdeco-inria/gaussian-splatting/issues/485\n",
    "\n",
    "import colorsys\n",
    "\n",
    "keep_data = []\n",
    "removed_data = []\n",
    "\n",
    "# h_lower = 28\n",
    "# h_upper = 104\n",
    "# s_lower = 43\n",
    "# s_upper = 255\n",
    "# v_lower = 43\n",
    "# v_upper = 255\n",
    "\n",
    "h_lower, s_lower, v_lower = (50, 20, 20)\n",
    "h_upper, s_upper, v_upper = (200, 255, 255)\n",
    "\n",
    "# f_dc_0(is red), f_dc_1(is green), f_dc_2(is blue)\n",
    "C0 = 0.28209479177387814\n",
    "# 0.5 + (C0 * f_dc_0)\n",
    "\n",
    "for idx in range(len(plydata['vertex'])):\n",
    "\n",
    "    f_dc_0 = plydata['vertex'][idx]['f_dc_0']\n",
    "    f_dc_1 = plydata['vertex'][idx]['f_dc_1']\n",
    "    f_dc_2 = plydata['vertex'][idx]['f_dc_2']\n",
    "\n",
    "    r = 0.5 + (C0 * f_dc_0)\n",
    "    g = 0.5 + (C0 * f_dc_1)\n",
    "    b = 0.5 + (C0 * f_dc_2)\n",
    "\n",
    "    # r = round(r*255)\n",
    "    # g = round(g*255)\n",
    "    # b = round(b*255)\n",
    "    # print(r, g, b)\n",
    "\n",
    "    h, s, v = colorsys.rgb_to_hsv(r, g, b)\n",
    "    h = round(h*255)\n",
    "    s = round(s*255)\n",
    "    v = round(v*255)\n",
    "    # print(h,s,v)\n",
    "\n",
    "    # if idx == 10:\n",
    "    #     break\n",
    "\n",
    "    # if (( r <= 150 ) and ( g >= 100 ) and ( b <= 150 )):\n",
    "    #     keep_data.append(plydata['vertex'][idx])\n",
    "    \n",
    "    if ((h_lower <= h <= h_upper) and (s_lower <= s <= s_upper) and (v_lower <= v <= v_upper)) == True:\n",
    "        removed_data.append(plydata['vertex'][idx])\n",
    "    else:\n",
    "        keep_data.append(plydata['vertex'][idx])\n",
    "\n",
    "print(len(keep_data))\n",
    "print(len(removed_data))"
   ]
  },
  {
   "cell_type": "code",
   "execution_count": 34,
   "metadata": {},
   "outputs": [
    {
     "name": "stdout",
     "output_type": "stream",
     "text": [
      "(1285247,)\n",
      "(584906,)\n"
     ]
    }
   ],
   "source": [
    "vertex_keep = np.array(keep_data, dtype = all_dtype)\n",
    "print(vertex_keep.shape)\n",
    "\n",
    "vertex_removed = np.array(removed_data, dtype = all_dtype)\n",
    "print(vertex_removed.shape)"
   ]
  },
  {
   "cell_type": "code",
   "execution_count": 35,
   "metadata": {},
   "outputs": [],
   "source": [
    "el = PlyElement.describe(vertex_keep, 'vertex')\n",
    "PlyData([el]).write('keep_green_filtered.ply')\n",
    "\n",
    "el = PlyElement.describe(vertex_removed, 'vertex')\n",
    "PlyData([el]).write('rm_green_filtered.ply')\n",
    "# PlyData([el], text=True).write('green_filtered_ascii.ply')"
   ]
  },
  {
   "cell_type": "code",
   "execution_count": null,
   "metadata": {},
   "outputs": [],
   "source": [
    "# Memory\n",
    "# all_data = plydata['vertex'].data\n",
    "# arr = np.vstack(all_data)\n",
    "# print(arr.shape)"
   ]
  },
  {
   "cell_type": "code",
   "execution_count": null,
   "metadata": {},
   "outputs": [],
   "source": [
    "# https://github.com/graphdeco-inria/gaussian-splatting/issues/485"
   ]
  },
  {
   "cell_type": "code",
   "execution_count": null,
   "metadata": {},
   "outputs": [],
   "source": [
    "def save_ply(self, path):\n",
    "    xyz = self._xyz.detach().cpu().numpy()\n",
    "    normals = np.zeros_like(xyz)\n",
    "    f_dc = self._features_dc.detach().transpose(1, 2).flatten(start_dim=1).contiguous().cpu().numpy()\n",
    "    f_rest = self._features_rest.detach().transpose(1, 2).flatten(start_dim=1).contiguous().cpu().numpy()\n",
    "    opacities = self._opacity.detach().cpu().numpy()\n",
    "    scale = self._scaling.detach().cpu().numpy()\n",
    "    rotation = self._rotation.detach().cpu().numpy()\n",
    "\n",
    "    dtype_full = [(attribute, 'f4') for attribute in self.construct_list_of_attributes()]\n",
    "\n",
    "    elements = np.empty(xyz.shape[0], dtype=dtype_full)\n",
    "    attributes = np.concatenate((xyz, normals, f_dc, f_rest, opacities, scale, rotation), axis=1)\n",
    "    elements[:] = list(map(tuple, attributes))\n",
    "    el = PlyElement.describe(elements, 'vertex')\n",
    "    PlyData([el]).write(path)\n"
   ]
  },
  {
   "cell_type": "code",
   "execution_count": null,
   "metadata": {},
   "outputs": [],
   "source": [
    "# Create Ply File\n",
    "vertex = np.array([(0, 0, 0),\n",
    "                       (0, 1, 1),\n",
    "                       (1, 0, 1),\n",
    "                       (1, 1, 0)],\n",
    "                      dtype=[('x', 'f4'), ('y', 'f4'), ('z', 'f4')])\n",
    "\n",
    "el = PlyElement.describe(vertex, 'vertex')\n",
    "\n",
    "PlyData([el]).write('some_binary.ply')\n",
    "PlyData([el], text=True).write('some_ascii.ply')"
   ]
  },
  {
   "cell_type": "code",
   "execution_count": null,
   "metadata": {},
   "outputs": [],
   "source": [
    "plydata = PlyData.read('some_binary.ply')\n",
    "plydata.elements"
   ]
  }
 ],
 "metadata": {
  "kernelspec": {
   "display_name": "3d-recon-fYoKgCqs",
   "language": "python",
   "name": "python3"
  },
  "language_info": {
   "codemirror_mode": {
    "name": "ipython",
    "version": 3
   },
   "file_extension": ".py",
   "mimetype": "text/x-python",
   "name": "python",
   "nbconvert_exporter": "python",
   "pygments_lexer": "ipython3",
   "version": "3.10.13"
  }
 },
 "nbformat": 4,
 "nbformat_minor": 2
}
